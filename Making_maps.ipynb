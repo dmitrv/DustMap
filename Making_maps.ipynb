{
  "nbformat": 4,
  "nbformat_minor": 0,
  "metadata": {
    "colab": {
      "provenance": []
    },
    "kernelspec": {
      "name": "python3",
      "display_name": "Python 3"
    },
    "language_info": {
      "name": "python"
    }
  },
  "cells": [
    {
      "cell_type": "code",
      "source": [
        "import cv2\n",
        "import numpy as np\n",
        "from google.colab.patches import cv2_imshow"
      ],
      "metadata": {
        "id": "wm__3dfYSoMG"
      },
      "execution_count": 1,
      "outputs": []
    },
    {
      "cell_type": "code",
      "source": [
        "from google.colab import drive\n",
        "\n",
        "\n",
        "drive.mount('/content/drive')\n",
        "id=\"/content/drive/MyDrive/hack1\""
      ],
      "metadata": {
        "colab": {
          "base_uri": "https://localhost:8080/"
        },
        "id": "sjqF3hSzSoDA",
        "outputId": "911ddadf-d02d-4787-cef2-850a5db31989"
      },
      "execution_count": 2,
      "outputs": [
        {
          "output_type": "stream",
          "name": "stdout",
          "text": [
            "Mounted at /content/drive\n"
          ]
        }
      ]
    },
    {
      "cell_type": "code",
      "source": [
        "from math import sin, cos, pi\n",
        "out=[]\n",
        "for k in range(1,27):\n",
        "  video=cv2.VideoCapture(\"/content/drive/MyDrive/hack/Endoscope video (\"+str(k)+\").mp4\")\n",
        "  out=[]\n",
        "  while video.isOpened():\n",
        "    cap, frame=video.read()\n",
        "    if cap==True:\n",
        "      h=len(frame)\n",
        "      w=len(frame[0])\n",
        "      r=int(min(h/2-1, w/2-1))\n",
        "      y=0\n",
        "      x=int(r)\n",
        "      local=[]\n",
        "      for i in range(300):\n",
        "        local.append(frame[y][x])\n",
        "        #print(y, x)\n",
        "        y=int(r-r*sin(pi*i/300))\n",
        "        x=int(r-r*cos(pi*i/300))\n",
        "      x=r\n",
        "      y=2*r\n",
        "      local=[]\n",
        "      for i in range(300):\n",
        "        local.append(frame[y][x])\n",
        "        #print(y, x)\n",
        "        y=int(r-r*sin(pi+pi*i/300))\n",
        "        x=int(r-r*cos(pi+pi*i/300))\n",
        "      out.append(local)\n",
        "    else:\n",
        "      break\n",
        "  out = np.asarray(out, dtype=np.uint8)\n",
        "  cv2_imshow(out)\n",
        "  img11=out\n",
        "  cv2.imwrite(\"/content/drive/MyDrive/Results/result2/img_\"+str(k)+\".png\", out)\n",
        "  for i in range(len(img11)):\n",
        "    for j in range(len(img11[i])):\n",
        "      l=len(img11[i])\n",
        "      if img11[i][j][2]>200 and img11[i][j][0]>200 and img11[i][j][1]>200:\n",
        "        if(j>2*l/3):\n",
        "          img11[i][j]=[255, 0, 0]\n",
        "        else:\n",
        "          img11[i][j]=[0, 0, 255]\n",
        "  cv2.imwrite(\"/content/drive/MyDrive/Results/result2/img_masked_\"+str(k)+\".png\", img11)\n",
        "  print()\n",
        "  print()\n",
        "  cv2_imshow(img11)\n",
        "  out=[]\n",
        "  print()\n",
        "  print()"
      ],
      "metadata": {
        "id": "0LynuJYu3J5P"
      },
      "execution_count": null,
      "outputs": []
    },
    {
      "cell_type": "code",
      "source": [
        "out=[]\n",
        "for k in range(1,27):\n",
        "  video=cv2.VideoCapture(\"/content/drive/MyDrive/hack/Endoscope video (\"+str(k)+\").mp4\")\n",
        "  out=[]\n",
        "  while video.isOpened():\n",
        "    cap, frame=video.read()\n",
        "    if cap==True:\n",
        "      h=len(frame)\n",
        "      w=len(frame[0])\n",
        "      r=int(min(h/2-1, w/2-1))\n",
        "      y=0\n",
        "      x=int((2*r-(8*y*r-4*y*y)**0.5)/2)\n",
        "      local=[]\n",
        "      for i in range(2*r-2):\n",
        "        local.append(frame[y][x])\n",
        "        #print(y, x)\n",
        "        y+=1\n",
        "        x=int((2*r-(8*y*r-4*y*y)**0.5)/2)\n",
        "      x=int((2*r+(8*y*r-4*y*y)**0.5)/2)\n",
        "      local=[]\n",
        "      for i in range(2*r-2):\n",
        "        local.append(frame[y][x])\n",
        "        #print(y, x)\n",
        "        y-=1\n",
        "        x=int((2*r+(8*y*r-4*y*y)**0.5)/2)\n",
        "      out.append(local)\n",
        "    else:\n",
        "      break\n",
        "  out = np.asarray(out, dtype=np.uint8)\n",
        "  cv2_imshow(out)\n",
        "  img11=out\n",
        "  cv2.imwrite(\"/content/drive/MyDrive/Results/result1/img_\"+str(k)+\".png\", out)\n",
        "  for i in range(len(img11)):\n",
        "    for j in range(len(img11[i])):\n",
        "      l=len(img11[i])\n",
        "      if img11[i][j][2]>200 and img11[i][j][0]>200 and img11[i][j][1]>200:\n",
        "        if(j>2*l/3):\n",
        "          img11[i][j]=[255, 0, 0]\n",
        "        else:\n",
        "          img11[i][j]=[0, 0, 255]\n",
        "  cv2.imwrite(\"/content/drive/MyDrive/Results/result1/img_masked_\"+str(k)+\".png\", img11)\n",
        "  print()\n",
        "  print()\n",
        "  cv2_imshow(img11)\n",
        "  out=[]\n",
        "  print()\n",
        "  print()"
      ],
      "metadata": {
        "id": "WUTpIHf7ywq1"
      },
      "execution_count": null,
      "outputs": []
    }
  ]
}